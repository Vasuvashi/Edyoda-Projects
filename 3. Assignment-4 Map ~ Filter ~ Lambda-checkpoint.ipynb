{
 "cells": [
  {
   "cell_type": "markdown",
   "id": "982a2610",
   "metadata": {},
   "source": [
    "# Find the Squares from the given List\n",
    "Write a Python program to square the elements of a list using map() function."
   ]
  },
  {
   "cell_type": "code",
   "execution_count": 3,
   "id": "f30a1a49",
   "metadata": {},
   "outputs": [
    {
     "name": "stdout",
     "output_type": "stream",
     "text": [
      "Enter the length of the list: 4\n",
      "Enter a number in the list: 4\n",
      "Enter a number in the list: 5\n",
      "Enter a number in the list: 2\n",
      "Enter a number in the list: 9\n",
      "Input [4, 5, 2, 9]\n",
      "Final Output,elements of the list:  [16, 25, 4, 81]\n"
     ]
    }
   ],
   "source": [
    "lst = []\n",
    "length = int(input(\"Enter the length of the list: \"))\n",
    "for i in range(length):\n",
    "    num = int(input(\"Enter a number in the list: \"))\n",
    "    lst.append(num)\n",
    "print(\"Input\",lst)\n",
    "\n",
    "square = lambda x : x ** 2\n",
    "print(\"Final Output,elements of the list: \",list(map(square,lst)))"
   ]
  },
  {
   "cell_type": "code",
   "execution_count": null,
   "id": "c2477565",
   "metadata": {},
   "outputs": [],
   "source": []
  }
 ],
 "metadata": {
  "kernelspec": {
   "display_name": "Python 3 (ipykernel)",
   "language": "python",
   "name": "python3"
  },
  "language_info": {
   "codemirror_mode": {
    "name": "ipython",
    "version": 3
   },
   "file_extension": ".py",
   "mimetype": "text/x-python",
   "name": "python",
   "nbconvert_exporter": "python",
   "pygments_lexer": "ipython3",
   "version": "3.10.9"
  }
 },
 "nbformat": 4,
 "nbformat_minor": 5
}

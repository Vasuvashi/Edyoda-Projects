{
 "cells": [
  {
   "cell_type": "markdown",
   "id": "d07bb693",
   "metadata": {},
   "source": [
    "# Q.1 Lets Play With Fibonacci\n",
    "Write a Python program to get the Fibonacci series between 0 to 50"
   ]
  },
  {
   "cell_type": "code",
   "execution_count": null,
   "id": "2c860f24",
   "metadata": {},
   "outputs": [],
   "source": [
    "x = 0\n",
    "y = 1\n",
    "while y<50:\n",
    "    print(y)\n",
    "    x,y = y,x+y"
   ]
  },
  {
   "cell_type": "markdown",
   "id": "229e4f3e",
   "metadata": {},
   "source": [
    "# Q.2 Send the Words To Mirror Dimension\n",
    "Write a Python program that accepts a word from the user and reverse it."
   ]
  },
  {
   "cell_type": "code",
   "execution_count": null,
   "id": "11f9978e",
   "metadata": {},
   "outputs": [],
   "source": [
    "def Reverse_string(s):\n",
    "    S1 = \"\"\n",
    "    for i in s:\n",
    "        S1 = i + S1\n",
    "    return S1\n",
    "\n",
    "s = input(\"Enter a word or sentence you want to reverse: \")\n",
    "\n",
    "output = Reverse_string(s)\n",
    "print(output)\n",
    "\n",
    "                                        # OR\n",
    "string = input(\"Enter any word or sentence for reversing : \")\n",
    "str = \"\".join(reversed(string))\n",
    "print(str)"
   ]
  },
  {
   "cell_type": "markdown",
   "id": "24970049",
   "metadata": {},
   "source": [
    "# Q.3 Don't go Outside in Odd day\n",
    "Write a Python program to count the number of even and odd numbers from a series of numbers."
   ]
  },
  {
   "cell_type": "code",
   "execution_count": null,
   "id": "d74d5a6b",
   "metadata": {},
   "outputs": [],
   "source": [
    "numbers = (1, 2, 3, 4, 5, 6, 7, 8, 9)\n",
    "\n",
    "def check_even(n):\n",
    "    if n % 2 == 0:\n",
    "        return \"even no.\"\n",
    "    else :\n",
    "        return \"odd no.\"\n",
    "\n",
    "count_even = 0\n",
    "count_odd = 0\n",
    "\n",
    "for i in numbers:\n",
    "    output = check_even(i)\n",
    "    if output == \"even no.\":\n",
    "        count_even += 1\n",
    "    else :\n",
    "        count_odd +=1\n",
    "print(\"Total even no. in the list:\", count_even)\n",
    "print(\"Total odd no. in the list:\", count_odd)"
   ]
  }
 ],
 "metadata": {
  "kernelspec": {
   "display_name": "Python 3 (ipykernel)",
   "language": "python",
   "name": "python3"
  },
  "language_info": {
   "codemirror_mode": {
    "name": "ipython",
    "version": 3
   },
   "file_extension": ".py",
   "mimetype": "text/x-python",
   "name": "python",
   "nbconvert_exporter": "python",
   "pygments_lexer": "ipython3",
   "version": "3.10.9"
  }
 },
 "nbformat": 4,
 "nbformat_minor": 5
}

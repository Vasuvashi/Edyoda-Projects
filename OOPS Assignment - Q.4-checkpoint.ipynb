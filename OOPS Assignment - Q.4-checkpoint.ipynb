{
 "cells": [
  {
   "cell_type": "markdown",
   "id": "384dcd19",
   "metadata": {},
   "source": [
    "# Challenge 4: Implement a Banking Account"
   ]
  },
  {
   "cell_type": "code",
   "execution_count": 5,
   "id": "a64e54a5",
   "metadata": {},
   "outputs": [],
   "source": [
    "class Account:\n",
    "    def __init__(self, title = None, Balance = 0):\n",
    "        self.title =  title\n",
    "        self.Balance = Balance\n",
    "\n",
    "class SavingsAccount(Account):\n",
    "    def __init__(self, title = None, Balance = 0, interestRate = 0):\n",
    "        super().__init__(title, Balance)\n",
    "        self.interestRate = interestRate"
   ]
  },
  {
   "cell_type": "code",
   "execution_count": 6,
   "id": "43a0ca90",
   "metadata": {},
   "outputs": [],
   "source": [
    "obj = SavingsAccount(\"Ashish\",5000, 5)"
   ]
  }
 ],
 "metadata": {
  "kernelspec": {
   "display_name": "Python 3 (ipykernel)",
   "language": "python",
   "name": "python3"
  },
  "language_info": {
   "codemirror_mode": {
    "name": "ipython",
    "version": 3
   },
   "file_extension": ".py",
   "mimetype": "text/x-python",
   "name": "python",
   "nbconvert_exporter": "python",
   "pygments_lexer": "ipython3",
   "version": "3.10.9"
  }
 },
 "nbformat": 4,
 "nbformat_minor": 5
}

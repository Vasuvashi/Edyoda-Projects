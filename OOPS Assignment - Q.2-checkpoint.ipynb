{
 "cells": [
  {
   "cell_type": "markdown",
   "id": "00b9401b",
   "metadata": {},
   "source": [
    "# Challenge 2: Implement a Calculator Class"
   ]
  },
  {
   "cell_type": "code",
   "execution_count": 2,
   "id": "ccd9e036",
   "metadata": {},
   "outputs": [],
   "source": [
    "class Calculator:\n",
    "    def __init__(self, num1, num2):\n",
    "        self.num1 = num1\n",
    "        self.num2 = num2\n",
    "        \n",
    "    def add(self):\n",
    "        sum = 0\n",
    "        sum = self.num1 + self.num2\n",
    "        return sum\n",
    "    \n",
    "    def subtract(self):\n",
    "        sub = 0\n",
    "        sub = self.num2 - self.num1\n",
    "        return sub\n",
    "    \n",
    "    def multiply(self):\n",
    "        product = 1\n",
    "        product = self.num1 * self.num2\n",
    "        return product\n",
    "    \n",
    "    def divide(self):\n",
    "        div = 1\n",
    "        div = self.num2 / self.num1\n",
    "        return div"
   ]
  },
  {
   "cell_type": "code",
   "execution_count": 3,
   "id": "13595f88",
   "metadata": {},
   "outputs": [
    {
     "name": "stdout",
     "output_type": "stream",
     "text": [
      "Addition: 104\n",
      "Subtraction: 84\n",
      "Multiplication: 940\n",
      "Division 9.4\n"
     ]
    }
   ],
   "source": [
    "obj = Calculator(10,94)\n",
    "print(\"Addition:\", obj.add())\n",
    "print(\"Subtraction:\", obj.subtract())\n",
    "print(\"Multiplication:\", obj.multiply())\n",
    "print(\"Division\", obj.divide())"
   ]
  },
  {
   "cell_type": "code",
   "execution_count": null,
   "id": "f3bc0477",
   "metadata": {},
   "outputs": [],
   "source": []
  }
 ],
 "metadata": {
  "kernelspec": {
   "display_name": "Python 3 (ipykernel)",
   "language": "python",
   "name": "python3"
  },
  "language_info": {
   "codemirror_mode": {
    "name": "ipython",
    "version": 3
   },
   "file_extension": ".py",
   "mimetype": "text/x-python",
   "name": "python",
   "nbconvert_exporter": "python",
   "pygments_lexer": "ipython3",
   "version": "3.10.9"
  }
 },
 "nbformat": 4,
 "nbformat_minor": 5
}

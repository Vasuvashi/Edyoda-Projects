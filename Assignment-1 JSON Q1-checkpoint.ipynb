{
 "cells": [
  {
   "cell_type": "markdown",
   "id": "3bcf41ff",
   "metadata": {},
   "source": [
    "Create a JSON file (employee.json) containing employee information of minimum 5 employees. Each employee information consists of Name, DOB, Height, City, State. Write a python program that reads this information from the JSON file and saves the information into a list of objects of Employee class. Finally print the list of the Employee objects."
   ]
  },
  {
   "cell_type": "code",
   "execution_count": 17,
   "id": "bdc59910",
   "metadata": {},
   "outputs": [],
   "source": [
    "import json\n",
    "import random\n",
    "class Employee:\n",
    "    def __init__(self):\n",
    "        self.id = random.randint(1,100)\n",
    "        try:\n",
    "            with open(\"Employee.json\",\"r\") as file:\n",
    "                self.data = json.load(file)\n",
    "                self.all_emp = self.data\n",
    "        except Exception as ex:\n",
    "            self.all_emp = {}\n",
    "        \n",
    "        self.emp = {}\n",
    "        \n",
    "\n",
    "    def add_details(self,name,dob,height,city,state): \n",
    "        self.emp[\"Name\"] = name\n",
    "        self.emp[\"DOB\"] = dob\n",
    "        self.emp[\"Height\"] = height\n",
    "        self.emp[\"City\"] = city \n",
    "        self.emp[\"State\"] = state\n",
    "        \n",
    "        while True:\n",
    "            if self.id not in self.all_emp.keys():\n",
    "                self.all_emp[self.id] = self.emp\n",
    "                with open(\"Employee.json\",\"w\") as file:\n",
    "                    json.dump(self.all_emp, file)\n",
    "                print(\"Employee Details added Successfully!!\")\n",
    "                break\n",
    "            else:\n",
    "                self.id += 1\n",
    "                        \n",
    "    def display(self):\n",
    "        with open(\"Employee.json\", \"r\") as file:\n",
    "            data = json.load(file)\n",
    "        for i in data.values():\n",
    "            lst = []\n",
    "            lst.append(i)\n",
    "            print(lst)\n",
    "            \n",
    "    def delete(self,id):\n",
    "        self.id = id\n",
    "        if self.id in self.all_emp.keys():\n",
    "            del self.all_emp[self.id]\n",
    "            with open(\"Employee.json\",\"w\") as file:\n",
    "                json.dump(self.all_emp, file)\n",
    "            print(\"Employee detail removed successfully!!\")\n",
    "        else:\n",
    "            print(\"ID Not Found\")"
   ]
  },
  {
   "cell_type": "code",
   "execution_count": 18,
   "id": "15b96ece",
   "metadata": {},
   "outputs": [],
   "source": [
    "obj = Employee()"
   ]
  },
  {
   "cell_type": "code",
   "execution_count": 21,
   "id": "6b280869",
   "metadata": {},
   "outputs": [
    {
     "name": "stdout",
     "output_type": "stream",
     "text": [
      "Employee Details added Successfully!!\n"
     ]
    }
   ],
   "source": [
    "obj.add_details(\"Akshat Kumar\",\"23-12-1998\",\"5'11\",\"Chandigarh\",\"Punjab\")"
   ]
  },
  {
   "cell_type": "code",
   "execution_count": 22,
   "id": "c706c558",
   "metadata": {},
   "outputs": [
    {
     "name": "stdout",
     "output_type": "stream",
     "text": [
      "[{'Name': 'Vasudha Vashistha', 'DOB': '21-01-1996', 'Height': \"5'4\", 'City': 'Noida', 'State': 'UP'}]\n",
      "[{'Name': 'Shivi Dhiman', 'DOB': '03-04-1999', 'Height': \"5'8\", 'City': 'Saharanpur', 'State': 'UP'}]\n",
      "[{'Name': 'Pragya Dhiman', 'DOB': '27-11-1991', 'Height': \"5'7\", 'City': 'Ghaziabad', 'State': 'UP'}]\n",
      "[{'Name': 'Gauri Vishwakarma', 'DOB': '06-08-1994', 'Height': \"5'10\", 'City': 'Bangalore', 'State': 'Karnataka'}]\n",
      "[{'Name': 'Akshat Kumar', 'DOB': '23-12-1998', 'Height': \"5'11\", 'City': 'Chandigarh', 'State': 'Punjab'}]\n"
     ]
    }
   ],
   "source": [
    "obj.display()"
   ]
  },
  {
   "cell_type": "code",
   "execution_count": null,
   "id": "7c2a96d0",
   "metadata": {},
   "outputs": [],
   "source": []
  }
 ],
 "metadata": {
  "kernelspec": {
   "display_name": "Python 3 (ipykernel)",
   "language": "python",
   "name": "python3"
  },
  "language_info": {
   "codemirror_mode": {
    "name": "ipython",
    "version": 3
   },
   "file_extension": ".py",
   "mimetype": "text/x-python",
   "name": "python",
   "nbconvert_exporter": "python",
   "pygments_lexer": "ipython3",
   "version": "3.10.9"
  }
 },
 "nbformat": 4,
 "nbformat_minor": 5
}

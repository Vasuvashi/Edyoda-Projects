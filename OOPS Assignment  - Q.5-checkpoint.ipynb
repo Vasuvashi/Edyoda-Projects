{
 "cells": [
  {
   "cell_type": "markdown",
   "id": "0536ffbd",
   "metadata": {},
   "source": [
    "# Challenge 5: Handling a Bank Account"
   ]
  },
  {
   "cell_type": "code",
   "execution_count": 52,
   "id": "2a4c55d9",
   "metadata": {},
   "outputs": [],
   "source": [
    "class Account:\n",
    "    def __init__(self, title = None, Balance = 0):\n",
    "        self.title = title\n",
    "        self.Balance = Balance\n",
    "        \n",
    "    def getBalance(self):\n",
    "        return self.Balance\n",
    "    \n",
    "    def deposit(self, amount):\n",
    "        self.Balance += amount\n",
    "        \n",
    "    def withdrawal(self, amount):\n",
    "        self.Balance -= amount"
   ]
  },
  {
   "cell_type": "code",
   "execution_count": 53,
   "id": "bfc2b240",
   "metadata": {},
   "outputs": [],
   "source": [
    "class SavingsAccount(Account):\n",
    "    def __init__(self, title = None, Balance = 0, interestRate = 0):\n",
    "        super().__init__(title, Balance)\n",
    "        self.interestRate = interestRate\n",
    "        \n",
    "    def interestAmount(self):\n",
    "        return ((self.Balance * self.interestRate) / 100)"
   ]
  },
  {
   "cell_type": "code",
   "execution_count": 64,
   "id": "cf1fa326",
   "metadata": {},
   "outputs": [
    {
     "name": "stdout",
     "output_type": "stream",
     "text": [
      "Initial Amount: 2000\n",
      "Balance After withdrewing: 1500\n",
      "Balance After depositing: 2000\n",
      "Interest on the Current Balance: 100.0\n"
     ]
    }
   ],
   "source": [
    "demo1 = SavingsAccount(\"Ashish\", 2000, 5)\n",
    "print(\"Initial Amount:\", demo1.getBalance())\n",
    "demo1.withdrawal(500)\n",
    "print(\"Balance After withdrewing:\", demo1.getBalance())\n",
    "demo1.deposit(500)\n",
    "print(\"Balance After depositing:\", demo1.getBalance())\n",
    "print(\"Interest on the Current Balance:\", demo1.interestAmount())"
   ]
  },
  {
   "cell_type": "code",
   "execution_count": null,
   "id": "2f1c70be",
   "metadata": {},
   "outputs": [],
   "source": []
  }
 ],
 "metadata": {
  "kernelspec": {
   "display_name": "Python 3 (ipykernel)",
   "language": "python",
   "name": "python3"
  },
  "language_info": {
   "codemirror_mode": {
    "name": "ipython",
    "version": 3
   },
   "file_extension": ".py",
   "mimetype": "text/x-python",
   "name": "python",
   "nbconvert_exporter": "python",
   "pygments_lexer": "ipython3",
   "version": "3.10.9"
  }
 },
 "nbformat": 4,
 "nbformat_minor": 5
}

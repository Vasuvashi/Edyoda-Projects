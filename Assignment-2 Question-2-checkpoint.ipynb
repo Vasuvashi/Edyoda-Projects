{
 "cells": [
  {
   "cell_type": "markdown",
   "id": "e689f3a1",
   "metadata": {},
   "source": [
    "# Make Your Own mini-Dictionary\n",
    "Write a Python program to print a dictionary whose keys should be the alphabet from a-z and the value should be corresponding ASCII values"
   ]
  },
  {
   "cell_type": "code",
   "execution_count": null,
   "id": "6f59fd81",
   "metadata": {},
   "outputs": [],
   "source": [
    "def print_dic():\n",
    "    str = \"abcdefghijklmnopqrstuvwxyz\"\n",
    "    dic = {}\n",
    "    for i in str:\n",
    "        ascii_value = ord(i)\n",
    "        dic[i] = ascii_value\n",
    "    return dic\n",
    "\n",
    "output = print_dic()\n",
    "print(output)"
   ]
  },
  {
   "cell_type": "code",
   "execution_count": null,
   "id": "88f153d2",
   "metadata": {},
   "outputs": [],
   "source": []
  }
 ],
 "metadata": {
  "kernelspec": {
   "display_name": "Python 3 (ipykernel)",
   "language": "python",
   "name": "python3"
  },
  "language_info": {
   "codemirror_mode": {
    "name": "ipython",
    "version": 3
   },
   "file_extension": ".py",
   "mimetype": "text/x-python",
   "name": "python",
   "nbconvert_exporter": "python",
   "pygments_lexer": "ipython3",
   "version": "3.10.9"
  }
 },
 "nbformat": 4,
 "nbformat_minor": 5
}

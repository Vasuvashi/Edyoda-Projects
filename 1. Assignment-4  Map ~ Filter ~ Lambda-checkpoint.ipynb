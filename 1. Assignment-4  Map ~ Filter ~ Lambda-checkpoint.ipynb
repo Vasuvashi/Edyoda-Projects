{
 "cells": [
  {
   "cell_type": "markdown",
   "id": "543ce296",
   "metadata": {},
   "source": [
    "# Play with Lambda\n",
    "Write a Python program to create a lambda function that adds 25 to a given number passed in as an argument."
   ]
  },
  {
   "cell_type": "code",
   "execution_count": 10,
   "id": "ad84138a",
   "metadata": {},
   "outputs": [
    {
     "name": "stdout",
     "output_type": "stream",
     "text": [
      "Enter a number:30\n"
     ]
    },
    {
     "data": {
      "text/plain": [
       "55"
      ]
     },
     "execution_count": 10,
     "metadata": {},
     "output_type": "execute_result"
    }
   ],
   "source": [
    "num = int(input(\"Enter a number:\"))\n",
    "func = lambda num : num+25\n",
    "func(num)"
   ]
  },
  {
   "cell_type": "code",
   "execution_count": null,
   "id": "9611ffa7",
   "metadata": {},
   "outputs": [],
   "source": []
  }
 ],
 "metadata": {
  "kernelspec": {
   "display_name": "Python 3 (ipykernel)",
   "language": "python",
   "name": "python3"
  },
  "language_info": {
   "codemirror_mode": {
    "name": "ipython",
    "version": 3
   },
   "file_extension": ".py",
   "mimetype": "text/x-python",
   "name": "python",
   "nbconvert_exporter": "python",
   "pygments_lexer": "ipython3",
   "version": "3.10.9"
  }
 },
 "nbformat": 4,
 "nbformat_minor": 5
}

{
 "cells": [
  {
   "cell_type": "markdown",
   "id": "9ec05d83",
   "metadata": {},
   "source": [
    "# Challenge 1: Square Numbers and Return Their Sum"
   ]
  },
  {
   "cell_type": "code",
   "execution_count": 9,
   "id": "5f42eaa3",
   "metadata": {},
   "outputs": [
    {
     "name": "stdout",
     "output_type": "stream",
     "text": [
      "35\n"
     ]
    }
   ],
   "source": [
    "class point:\n",
    "    def __init__(self,x,y,z):\n",
    "        self.x = x\n",
    "        self.y = y\n",
    "        self.z = z\n",
    "        \n",
    "    def sqsum(self):\n",
    "        self.x = self.x**2\n",
    "        self.y = self.y**2\n",
    "        self.z = self.z**2\n",
    "        sum1 = self.x + self.y +self.z\n",
    "        return sum1\n",
    "    \n",
    "obj = point(1,3,5)\n",
    "print(obj.sqsum())"
   ]
  },
  {
   "cell_type": "code",
   "execution_count": null,
   "id": "f9acbf3b",
   "metadata": {},
   "outputs": [],
   "source": []
  }
 ],
 "metadata": {
  "kernelspec": {
   "display_name": "Python 3 (ipykernel)",
   "language": "python",
   "name": "python3"
  },
  "language_info": {
   "codemirror_mode": {
    "name": "ipython",
    "version": 3
   },
   "file_extension": ".py",
   "mimetype": "text/x-python",
   "name": "python",
   "nbconvert_exporter": "python",
   "pygments_lexer": "ipython3",
   "version": "3.10.9"
  }
 },
 "nbformat": 4,
 "nbformat_minor": 5
}

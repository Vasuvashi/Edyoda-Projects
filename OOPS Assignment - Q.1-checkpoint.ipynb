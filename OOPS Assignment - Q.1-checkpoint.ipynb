{
 "cells": [
  {
   "cell_type": "markdown",
   "id": "8eb2c29d",
   "metadata": {},
   "source": [
    "# Challenge 1: Square Numbers and Return Their Sum"
   ]
  },
  {
   "cell_type": "code",
   "execution_count": 5,
   "id": "7ba27107",
   "metadata": {},
   "outputs": [],
   "source": [
    "class point:\n",
    "    def __init__(self, x, y, z):\n",
    "        self.x = x\n",
    "        self.y = y\n",
    "        self.z = z\n",
    "        \n",
    "    def sqsum(self):\n",
    "        sum = 0 \n",
    "        a = self.x ** 2\n",
    "        b = self.y ** 2\n",
    "        c = self.z ** 2\n",
    "        sum = a + b + c\n",
    "        return sum"
   ]
  },
  {
   "cell_type": "code",
   "execution_count": 4,
   "id": "7bbdf3fb",
   "metadata": {},
   "outputs": [
    {
     "name": "stdout",
     "output_type": "stream",
     "text": [
      "35\n"
     ]
    }
   ],
   "source": [
    "obj = point(1,3,5)\n",
    "print(obj.sqsum())"
   ]
  },
  {
   "cell_type": "code",
   "execution_count": null,
   "id": "c4839e45",
   "metadata": {},
   "outputs": [],
   "source": []
  }
 ],
 "metadata": {
  "kernelspec": {
   "display_name": "Python 3 (ipykernel)",
   "language": "python",
   "name": "python3"
  },
  "language_info": {
   "codemirror_mode": {
    "name": "ipython",
    "version": 3
   },
   "file_extension": ".py",
   "mimetype": "text/x-python",
   "name": "python",
   "nbconvert_exporter": "python",
   "pygments_lexer": "ipython3",
   "version": "3.10.9"
  }
 },
 "nbformat": 4,
 "nbformat_minor": 5
}

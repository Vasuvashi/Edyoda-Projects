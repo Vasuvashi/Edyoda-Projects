{
 "cells": [
  {
   "cell_type": "markdown",
   "id": "f8b20bea",
   "metadata": {},
   "source": [
    "# Find the way with Maps\n",
    "Write a Python program to triple all numbers of a given list of integers. Use Python map."
   ]
  },
  {
   "cell_type": "code",
   "execution_count": null,
   "id": "f6477903",
   "metadata": {},
   "outputs": [],
   "source": [
    "lst = []\n",
    "length = int(input(\"Enter the length of the list: \"))\n",
    "for i in range(length):\n",
    "    num = int(input(\"Enter a Number in list: \"))\n",
    "    lst.append(num)\n",
    "print(\"Input\",lst)\n",
    "\n",
    "triple = lambda x : x * 3\n",
    "print(\"Final Output: Triple of list Numbers\",list(map(triple,lst)))"
   ]
  },
  {
   "cell_type": "code",
   "execution_count": null,
   "id": "58f30aec",
   "metadata": {},
   "outputs": [],
   "source": []
  }
 ],
 "metadata": {
  "kernelspec": {
   "display_name": "Python 3 (ipykernel)",
   "language": "python",
   "name": "python3"
  },
  "language_info": {
   "codemirror_mode": {
    "name": "ipython",
    "version": 3
   },
   "file_extension": ".py",
   "mimetype": "text/x-python",
   "name": "python",
   "nbconvert_exporter": "python",
   "pygments_lexer": "ipython3",
   "version": "3.10.9"
  }
 },
 "nbformat": 4,
 "nbformat_minor": 5
}

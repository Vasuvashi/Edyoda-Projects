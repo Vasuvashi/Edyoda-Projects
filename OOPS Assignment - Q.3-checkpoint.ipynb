{
 "cells": [
  {
   "cell_type": "markdown",
   "id": "bff530e3",
   "metadata": {},
   "source": [
    "# Challenge 3: Implement the Complete Student Class"
   ]
  },
  {
   "cell_type": "code",
   "execution_count": 1,
   "id": "6f2c9b38",
   "metadata": {},
   "outputs": [],
   "source": [
    "class Student:    \n",
    "    def setName(self, your_name):\n",
    "        self._name = your_name\n",
    "        \n",
    "    def getName(self):\n",
    "        return self._name \n",
    "    \n",
    "    def setRollNumber(self, your_rollno):\n",
    "        self._rollNumber = your_rollno\n",
    "        \n",
    "    def getRollNumber(self):\n",
    "        return self._rollNumber"
   ]
  },
  {
   "cell_type": "code",
   "execution_count": 2,
   "id": "e9f9387a",
   "metadata": {},
   "outputs": [
    {
     "name": "stdout",
     "output_type": "stream",
     "text": [
      "Student Name is  Vasudha Vashistha\n"
     ]
    }
   ],
   "source": [
    "obj = Student()\n",
    "obj.setName(\"Vasudha Vashistha\")\n",
    "print(\"Student Name is \", obj.getName())"
   ]
  },
  {
   "cell_type": "code",
   "execution_count": 4,
   "id": "9a140b70",
   "metadata": {},
   "outputs": [
    {
     "name": "stdout",
     "output_type": "stream",
     "text": [
      "Student's Roll Number is 14532012\n"
     ]
    }
   ],
   "source": [
    "obj.setRollNumber(14532012)\n",
    "print(\"Student's Roll Number is\", obj.getRollNumber())"
   ]
  },
  {
   "cell_type": "code",
   "execution_count": null,
   "id": "0bf25727",
   "metadata": {},
   "outputs": [],
   "source": []
  }
 ],
 "metadata": {
  "kernelspec": {
   "display_name": "Python 3 (ipykernel)",
   "language": "python",
   "name": "python3"
  },
  "language_info": {
   "codemirror_mode": {
    "name": "ipython",
    "version": 3
   },
   "file_extension": ".py",
   "mimetype": "text/x-python",
   "name": "python",
   "nbconvert_exporter": "python",
   "pygments_lexer": "ipython3",
   "version": "3.10.9"
  }
 },
 "nbformat": 4,
 "nbformat_minor": 5
}

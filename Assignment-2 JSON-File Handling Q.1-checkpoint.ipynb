{
 "cells": [
  {
   "cell_type": "markdown",
   "id": "27ac1545",
   "metadata": {},
   "source": [
    "# Create a class named ‘Dog’. It should have a constructor which accepts its name, age and coat color. You must perform the following operations:\n",
    "🔴 a. It should have a function ‘description()’ which prints the name and age of the dog.\n",
    "🔴 b. It should have a function ‘get_info()’ which prints the coat color of the dog.\n",
    "🔴 c. Create child classes ‘JackRussellTerrier’ and ‘Bulldog’ which is inherited from the class ‘Dog’. It should have at least two methods of its own.\n",
    "🔴 d. Create objects and implement the above functionalities."
   ]
  },
  {
   "cell_type": "code",
   "execution_count": 83,
   "id": "66499358",
   "metadata": {},
   "outputs": [],
   "source": [
    "class Dog:\n",
    "    def __init__(self, name, age, coat_color):\n",
    "        self.name = name\n",
    "        self.age = age\n",
    "        self.coat_color = coat_color\n",
    "        \n",
    "    def description(self):\n",
    "        print(\"Name of the Dog: \", self.name)\n",
    "        print(\"Agr of the Dog: \", self.age)\n",
    "    \n",
    "    def get_info(self):\n",
    "        print(\"Coat color of the Dog: \",self.coat_color)"
   ]
  },
  {
   "cell_type": "code",
   "execution_count": 84,
   "id": "cbe4d892",
   "metadata": {},
   "outputs": [],
   "source": [
    "class JackRussellTerrier(Dog):\n",
    "    def __init__(self, name, age, coat_color):\n",
    "        super().__init__(name, age, coat_color)\n",
    "        self.popularity = \"Superstar ---- *** 3.5 Stars\"\n",
    "        self.availability = \"Easy to get\"\n",
    "        self.getting_it_home = \"Expensive\"\n",
    "        self.life_span = \"13 to 14 years\"\n",
    "        self.origin = \"England\"\n",
    "        self.efforts = \"\tRegular Exercise & Firm Training\"\n",
    "        \n",
    "    def description_Jack(self):\n",
    "        self.origin_of_name = '''The Jack Russell Terrier gets its name from the man who bred them. \n",
    "                 These breeds are named after Parson John Russell, who was known as Jack to most of his friends. \n",
    "                 In fact they are at times when they are called the Parson Terrier as well.'''\n",
    "        self.characteristics = \"Agile, Energetic, Lovable, Vivacious.\"\n",
    "        print(\"Origin of Name: \", self.origin_of_name)\n",
    "        print(\"\\nCharacteristics of Jack Russeell Terrier: \",self.characteristics)\n",
    "        \n",
    "    def get_info_Jack(self):\n",
    "        print(f''' Life Soan:             {self.life_span}, \n",
    " Popularity:            {self.popularity}, \n",
    " Availability:          {self.availability},\n",
    " Getting a Puppy Home:  {self.getting_it_home}, \n",
    " Origin:                {self.origin}\n",
    " Efforts:            {self.efforts}''')"
   ]
  },
  {
   "cell_type": "code",
   "execution_count": 85,
   "id": "3d06261e",
   "metadata": {},
   "outputs": [],
   "source": [
    "class BullDog(Dog):\n",
    "    def __init__(self, name, age, coat_color):\n",
    "        super().__init__(name, age, coat_color)\n",
    "        self.popularity = \"Superstar ---- **** 4.5 stars\"\n",
    "        self.availability = \"Easy to get\"\n",
    "        self.getting_it_home = \"Extravagant\"\n",
    "        self.life_span = \"7 to 8 years\"\n",
    "        self.origin = \"England\"\n",
    "        self.efforts = \"\tRegular Brushing, Wrinkle Requires Attention & Veterinary Attention\"\n",
    "        \n",
    "    def description_Bull(self):\n",
    "        self.origin_of_name = '''The name of the Bulldog is very easy to decipher. \n",
    "                 The dog was named after its ability to fight with bulls in the arena. \n",
    "                 They were used primarily in the sport of bull baiting in earlier times till the 1880s.'''\n",
    "        self.characteristics = \"Clownish, Determined, Outgoing, Willful\"\n",
    "        print(\"Origin of Name: \", self.origin_of_name)\n",
    "        print(\"\\nCharacteristics of Bull Dog: \",self.characteristics)\n",
    "        \n",
    "    def get_info_Bull(self):\n",
    "        print(f''' Life Soan:             {self.life_span}, \n",
    " Popularity:            {self.popularity}, \n",
    " Availability:          {self.availability},\n",
    " Getting a Puppy Home:  {self.getting_it_home}, \n",
    " Origin:                {self.origin}\n",
    " Efforts:            {self.efforts}''')"
   ]
  },
  {
   "cell_type": "code",
   "execution_count": 86,
   "id": "12994b06",
   "metadata": {},
   "outputs": [],
   "source": [
    "JRT = JackRussellTerrier(\"Jack\",5,\"Black\")"
   ]
  },
  {
   "cell_type": "code",
   "execution_count": 87,
   "id": "69bbfca4",
   "metadata": {},
   "outputs": [
    {
     "name": "stdout",
     "output_type": "stream",
     "text": [
      "Name of the Dog:  Jack\n",
      "Agr of the Dog:  5\n"
     ]
    }
   ],
   "source": [
    "JRT.description()"
   ]
  },
  {
   "cell_type": "code",
   "execution_count": 88,
   "id": "a7431b4b",
   "metadata": {},
   "outputs": [
    {
     "name": "stdout",
     "output_type": "stream",
     "text": [
      "Coat color of the Dog:  Black\n"
     ]
    }
   ],
   "source": [
    "JRT.get_info()"
   ]
  },
  {
   "cell_type": "code",
   "execution_count": 89,
   "id": "accdb862",
   "metadata": {},
   "outputs": [
    {
     "name": "stdout",
     "output_type": "stream",
     "text": [
      "Origin of Name:  The Jack Russell Terrier gets its name from the man who bred them. \n",
      "                 These breeds are named after Parson John Russell, who was known as Jack to most of his friends. \n",
      "                 In fact they are at times when they are called the Parson Terrier as well.\n",
      "\n",
      "Characteristics of Jack Russeell Terrier:  Agile, Energetic, Lovable, Vivacious.\n"
     ]
    }
   ],
   "source": [
    "JRT.description_Jack()"
   ]
  },
  {
   "cell_type": "code",
   "execution_count": 90,
   "id": "1453500a",
   "metadata": {},
   "outputs": [
    {
     "name": "stdout",
     "output_type": "stream",
     "text": [
      " Life Soan:             13 to 14 years, \n",
      " Popularity:            Superstar ---- *** 3.5 Stars, \n",
      " Availability:          Easy to get,\n",
      " Getting a Puppy Home:  Expensive, \n",
      " Origin:                England\n",
      " Efforts:            \tRegular Exercise & Firm Training\n"
     ]
    }
   ],
   "source": [
    "JRT.get_info_Jack()"
   ]
  },
  {
   "cell_type": "code",
   "execution_count": 92,
   "id": "e40c89a9",
   "metadata": {},
   "outputs": [],
   "source": [
    "Bull_dog = BullDog(\"French Bull Dog\",6,\"Brown\")"
   ]
  },
  {
   "cell_type": "code",
   "execution_count": 93,
   "id": "ecb542e3",
   "metadata": {},
   "outputs": [
    {
     "name": "stdout",
     "output_type": "stream",
     "text": [
      "Name of the Dog:  French Bull Dog\n",
      "Agr of the Dog:  6\n"
     ]
    }
   ],
   "source": [
    "Bull_dog.description()"
   ]
  },
  {
   "cell_type": "code",
   "execution_count": 94,
   "id": "2c6e9269",
   "metadata": {},
   "outputs": [
    {
     "name": "stdout",
     "output_type": "stream",
     "text": [
      "Coat color of the Dog:  Brown\n"
     ]
    }
   ],
   "source": [
    "Bull_dog.get_info()"
   ]
  },
  {
   "cell_type": "code",
   "execution_count": 95,
   "id": "ab39dc78",
   "metadata": {},
   "outputs": [
    {
     "name": "stdout",
     "output_type": "stream",
     "text": [
      "Origin of Name:  The name of the Bulldog is very easy to decipher. \n",
      "                 The dog was named after its ability to fight with bulls in the arena. \n",
      "                 They were used primarily in the sport of bull baiting in earlier times till the 1880s.\n",
      "\n",
      "Characteristics of Bull Dog:  Clownish, Determined, Outgoing, Willful\n"
     ]
    }
   ],
   "source": [
    "Bull_dog.description_Bull()"
   ]
  },
  {
   "cell_type": "code",
   "execution_count": 96,
   "id": "2010ea75",
   "metadata": {},
   "outputs": [
    {
     "name": "stdout",
     "output_type": "stream",
     "text": [
      " Life Soan:             7 to 8 years, \n",
      " Popularity:            Superstar ---- **** 4.5 stars, \n",
      " Availability:          Easy to get,\n",
      " Getting a Puppy Home:  Extravagant, \n",
      " Origin:                England\n",
      " Efforts:            \tRegular Brushing, Wrinkle Requires Attention & Veterinary Attention\n"
     ]
    }
   ],
   "source": [
    "Bull_dog.get_info_Bull()"
   ]
  },
  {
   "cell_type": "code",
   "execution_count": null,
   "id": "506bbc31",
   "metadata": {},
   "outputs": [],
   "source": []
  }
 ],
 "metadata": {
  "kernelspec": {
   "display_name": "Python 3 (ipykernel)",
   "language": "python",
   "name": "python3"
  },
  "language_info": {
   "codemirror_mode": {
    "name": "ipython",
    "version": 3
   },
   "file_extension": ".py",
   "mimetype": "text/x-python",
   "name": "python",
   "nbconvert_exporter": "python",
   "pygments_lexer": "ipython3",
   "version": "3.10.9"
  }
 },
 "nbformat": 4,
 "nbformat_minor": 5
}

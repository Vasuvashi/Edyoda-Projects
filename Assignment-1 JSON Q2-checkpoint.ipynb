{
 "cells": [
  {
   "cell_type": "markdown",
   "id": "04bf9a5e",
   "metadata": {},
   "source": [
    "# Create a dictionary of any 7 Indian states and their capitals. Write this into a JSON file."
   ]
  },
  {
   "cell_type": "code",
   "execution_count": null,
   "id": "fb43efdf",
   "metadata": {},
   "outputs": [],
   "source": [
    "import json\n",
    "class Dict_json:\n",
    "    def __init__(self, length):\n",
    "        self.length = length\n",
    "        try:\n",
    "            with open(\"State_Capital.json\", \"r\") as file:\n",
    "                data = json.load(file)\n",
    "                self.states = data\n",
    "        except Exception as ex:\n",
    "            self.states = {}\n",
    "    def create_dict(self):\n",
    "        for i in range(self.length):\n",
    "            state = input(\"Enter name of the State: \")\n",
    "            capital = input(\"Enter name of its capital: \")\n",
    "            self.states[state] = capital\n",
    "        print(\"Dictionary is created, Value added Successfully!!\")\n",
    "        with open(\"State_Capital.json\",\"w\") as file:\n",
    "            json.dump(self.states, file)\n",
    "    \n",
    "    def display(self):\n",
    "        print(self.states)\n",
    "        \n",
    "    def delete(self,state):\n",
    "        if state in self.states.keys():\n",
    "            del self.states[state]\n",
    "            with open(\"map.json\",\"w\") as file:\n",
    "                json.dump(self.states, file)\n",
    "            print(\"State deleted Successfully!!\")\n",
    "        else:\n",
    "            print(\"State Not Found\")"
   ]
  },
  {
   "cell_type": "code",
   "execution_count": null,
   "id": "1e0dbcd2",
   "metadata": {},
   "outputs": [],
   "source": [
    "dict1 = Dict_json(7)"
   ]
  },
  {
   "cell_type": "code",
   "execution_count": null,
   "id": "c3b140e8",
   "metadata": {},
   "outputs": [],
   "source": [
    "dict1.create_dict()"
   ]
  },
  {
   "cell_type": "code",
   "execution_count": null,
   "id": "464e4036",
   "metadata": {},
   "outputs": [],
   "source": [
    "dict1.display()"
   ]
  },
  {
   "cell_type": "code",
   "execution_count": null,
   "id": "1d75e89e",
   "metadata": {},
   "outputs": [],
   "source": []
  }
 ],
 "metadata": {
  "kernelspec": {
   "display_name": "Python 3 (ipykernel)",
   "language": "python",
   "name": "python3"
  },
  "language_info": {
   "codemirror_mode": {
    "name": "ipython",
    "version": 3
   },
   "file_extension": ".py",
   "mimetype": "text/x-python",
   "name": "python",
   "nbconvert_exporter": "python",
   "pygments_lexer": "ipython3",
   "version": "3.10.9"
  }
 },
 "nbformat": 4,
 "nbformat_minor": 5
}

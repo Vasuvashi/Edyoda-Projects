{
 "cells": [
  {
   "cell_type": "markdown",
   "id": "0142e49a",
   "metadata": {},
   "source": [
    "# Q.3 Calculate the Upper and The lower Case\n",
    "Write a Python function that accepts a string and calculate the number of upper case letters and lower case letters."
   ]
  },
  {
   "cell_type": "code",
   "execution_count": 4,
   "id": "423b33a7",
   "metadata": {},
   "outputs": [
    {
     "name": "stdout",
     "output_type": "stream",
     "text": [
      "enter a string: The Quick Brown Fox.\n",
      "Total Upper case letters are:  4\n",
      "Total lower case letters are:  12\n"
     ]
    }
   ],
   "source": [
    "def check_string(s):\n",
    "    if s.isupper():\n",
    "        return \"Upper Character\"\n",
    "    elif s.islower():\n",
    "        return \"Lower Character\"\n",
    "\n",
    "count_u = 0\n",
    "count_l = 0\n",
    "\n",
    "str = input(\"enter a string: \")\n",
    "\n",
    "for s in str:\n",
    "    output = check_string(s)\n",
    "    if output == \"Upper Character\":\n",
    "        count_u += 1\n",
    "    elif output == \"Lower Character\":\n",
    "        count_l += 1\n",
    "\n",
    "print(\"Total Upper case letters are: \", count_u)\n",
    "print(\"Total lower case letters are: \", count_l)"
   ]
  },
  {
   "cell_type": "code",
   "execution_count": null,
   "id": "ade532db",
   "metadata": {},
   "outputs": [],
   "source": []
  }
 ],
 "metadata": {
  "kernelspec": {
   "display_name": "Python 3 (ipykernel)",
   "language": "python",
   "name": "python3"
  },
  "language_info": {
   "codemirror_mode": {
    "name": "ipython",
    "version": 3
   },
   "file_extension": ".py",
   "mimetype": "text/x-python",
   "name": "python",
   "nbconvert_exporter": "python",
   "pygments_lexer": "ipython3",
   "version": "3.10.9"
  }
 },
 "nbformat": 4,
 "nbformat_minor": 5
}

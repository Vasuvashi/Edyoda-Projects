{
 "cells": [
  {
   "cell_type": "markdown",
   "id": "a5a28f7b",
   "metadata": {},
   "source": [
    "# Q. 2 String inside the function\n",
    "Write a Python program to reverse a string."
   ]
  },
  {
   "cell_type": "code",
   "execution_count": 3,
   "id": "acead5c9",
   "metadata": {},
   "outputs": [
    {
     "name": "stdout",
     "output_type": "stream",
     "text": [
      "Enter a string: Hi, My name is Vasudha Vashistha.\n",
      "Reversed String:  .ahtsihsaV ahdusaV si eman yM ,iH\n"
     ]
    }
   ],
   "source": [
    "def reverse_string(S1):\n",
    "    s = \"\"\n",
    "    for i in S1:\n",
    "        s = i + s\n",
    "    return s\n",
    "S1 = input(\"Enter a string: \")\n",
    "output = reverse_string(S1)\n",
    "print(\"Reversed String: \", output)"
   ]
  },
  {
   "cell_type": "code",
   "execution_count": null,
   "id": "3ebeee82",
   "metadata": {},
   "outputs": [],
   "source": []
  }
 ],
 "metadata": {
  "kernelspec": {
   "display_name": "Python 3 (ipykernel)",
   "language": "python",
   "name": "python3"
  },
  "language_info": {
   "codemirror_mode": {
    "name": "ipython",
    "version": 3
   },
   "file_extension": ".py",
   "mimetype": "text/x-python",
   "name": "python",
   "nbconvert_exporter": "python",
   "pygments_lexer": "ipython3",
   "version": "3.10.9"
  }
 },
 "nbformat": 4,
 "nbformat_minor": 5
}

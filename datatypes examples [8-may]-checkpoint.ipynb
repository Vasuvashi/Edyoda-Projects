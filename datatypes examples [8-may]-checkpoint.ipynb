{
 "cells": [
  {
   "cell_type": "code",
   "execution_count": 1,
   "id": "350c05f0",
   "metadata": {},
   "outputs": [
    {
     "name": "stdout",
     "output_type": "stream",
     "text": [
      "['Apple', 'Mango', 'Banana']\n"
     ]
    }
   ],
   "source": [
    "fruits_name = [\"Apple\", \"Mango\", \"Banana\"]\n",
    "print (fruits_name)"
   ]
  },
  {
   "cell_type": "code",
   "execution_count": 4,
   "id": "fed5791a",
   "metadata": {},
   "outputs": [],
   "source": [
    "fruits_name.append(\"strawberry\")"
   ]
  },
  {
   "cell_type": "code",
   "execution_count": 5,
   "id": "eeb8e476",
   "metadata": {},
   "outputs": [
    {
     "name": "stdout",
     "output_type": "stream",
     "text": [
      "['Apple', 'Mango', 'Banana', 'Strawberry', 'strawberry']\n"
     ]
    }
   ],
   "source": [
    "print(fruits_name)"
   ]
  },
  {
   "cell_type": "code",
   "execution_count": 7,
   "id": "54ec46b5",
   "metadata": {},
   "outputs": [
    {
     "ename": "ValueError",
     "evalue": "list.remove(x): x not in list",
     "output_type": "error",
     "traceback": [
      "\u001b[1;31m---------------------------------------------------------------------------\u001b[0m",
      "\u001b[1;31mValueError\u001b[0m                                Traceback (most recent call last)",
      "Cell \u001b[1;32mIn[7], line 1\u001b[0m\n\u001b[1;32m----> 1\u001b[0m \u001b[43mfruits_name\u001b[49m\u001b[38;5;241;43m.\u001b[39;49m\u001b[43mremove\u001b[49m\u001b[43m(\u001b[49m\u001b[38;5;124;43m\"\u001b[39;49m\u001b[38;5;124;43mapple\u001b[39;49m\u001b[38;5;124;43m\"\u001b[39;49m\u001b[43m)\u001b[49m\n",
      "\u001b[1;31mValueError\u001b[0m: list.remove(x): x not in list"
     ]
    }
   ],
   "source": [
    "fruits_name.remove(\"apple\")"
   ]
  },
  {
   "cell_type": "code",
   "execution_count": 8,
   "id": "e60602f8",
   "metadata": {},
   "outputs": [
    {
     "name": "stdout",
     "output_type": "stream",
     "text": [
      "['Apple', 'Mango', 'Banana', 'Strawberry', 'strawberry']\n"
     ]
    }
   ],
   "source": [
    "print(fruits_name)"
   ]
  },
  {
   "cell_type": "code",
   "execution_count": 9,
   "id": "ea0b4dad",
   "metadata": {},
   "outputs": [],
   "source": [
    "fruits_name.remove('Apple')"
   ]
  },
  {
   "cell_type": "code",
   "execution_count": 10,
   "id": "b5947fd4",
   "metadata": {},
   "outputs": [
    {
     "name": "stdout",
     "output_type": "stream",
     "text": [
      "['Mango', 'Banana', 'Strawberry', 'strawberry']\n"
     ]
    }
   ],
   "source": [
    "print(fruits_name)"
   ]
  },
  {
   "cell_type": "code",
   "execution_count": 11,
   "id": "b7e1bc98",
   "metadata": {},
   "outputs": [],
   "source": [
    "fruits_name.remove('Strawberry')"
   ]
  },
  {
   "cell_type": "code",
   "execution_count": 12,
   "id": "c81a242b",
   "metadata": {},
   "outputs": [
    {
     "name": "stdout",
     "output_type": "stream",
     "text": [
      "['Mango', 'Banana', 'strawberry']\n"
     ]
    }
   ],
   "source": [
    "print(fruits_name)"
   ]
  },
  {
   "cell_type": "code",
   "execution_count": 14,
   "id": "5262e32f",
   "metadata": {},
   "outputs": [
    {
     "name": "stdout",
     "output_type": "stream",
     "text": [
      "['Mango', 'Banana', 'strawberry', 100, 100]\n"
     ]
    }
   ],
   "source": [
    "fruits_name.append(100)\n",
    "print(fruits_name)"
   ]
  },
  {
   "cell_type": "code",
   "execution_count": 15,
   "id": "4d5a2831",
   "metadata": {},
   "outputs": [
    {
     "name": "stdout",
     "output_type": "stream",
     "text": [
      "['Mango', 'Banana', 'strawberry', 100.0, 100]\n"
     ]
    }
   ],
   "source": [
    "fruits_name[3]=float(fruits_name[3])\n",
    "print(fruits_name)"
   ]
  },
  {
   "cell_type": "code",
   "execution_count": 20,
   "id": "8444ad17",
   "metadata": {},
   "outputs": [
    {
     "name": "stdout",
     "output_type": "stream",
     "text": [
      "0 Mango\n",
      "1 Banana\n",
      "2 strawberry\n",
      "3 100.0\n",
      "4 100\n"
     ]
    }
   ],
   "source": [
    "index = 0\n",
    "for i in fruits_name : \n",
    "    print(index, i)\n",
    "    index = index + 1"
   ]
  },
  {
   "cell_type": "code",
   "execution_count": 21,
   "id": "750bd03f",
   "metadata": {},
   "outputs": [
    {
     "data": {
      "text/plain": [
       "'C:\\\\Users\\\\vasuv'"
      ]
     },
     "execution_count": 21,
     "metadata": {},
     "output_type": "execute_result"
    }
   ],
   "source": [
    "import os\n",
    "os.getcwd()"
   ]
  },
  {
   "cell_type": "code",
   "execution_count": 26,
   "id": "74083032",
   "metadata": {},
   "outputs": [
    {
     "name": "stdout",
     "output_type": "stream",
     "text": [
      "{10: ['vasudha', 95], 20: ['Akshat', 93], 30: ['Shilpa', 95]}\n"
     ]
    }
   ],
   "source": [
    "Student = {10 : [\"vasudha\", 95], 20: [\"Akshat\", 93], 30 : [\"Shilpa\", 95]}\n",
    "print(Student)"
   ]
  },
  {
   "cell_type": "code",
   "execution_count": 29,
   "id": "9e36a401",
   "metadata": {},
   "outputs": [
    {
     "name": "stdout",
     "output_type": "stream",
     "text": [
      "Dict after adding 1 key value pair {10: ['vasudha', 95]}\n",
      "Dict after adding 2 key value pair {10: ['vasudha', 95], 20: ['Akshat', 93]}\n",
      "Dict after adding 3 key value pair {10: ['vasudha', 95], 20: ['Akshat', 93], 30: ['Shilpa', 95]}\n"
     ]
    }
   ],
   "source": [
    "Student_ = {}\n",
    "Student_[10] = [\"vasudha\", 95]\n",
    "print(\"Dict after adding 1 key value pair\", Student_)\n",
    "Student_[20] = [\"Akshat\", 93]\n",
    "print(\"Dict after adding 2 key value pair\", Student_)\n",
    "Student_[30] = [\"Shilpa\", 95]\n",
    "print(\"Dict after adding 3 key value pair\", Student_)"
   ]
  },
  {
   "cell_type": "code",
   "execution_count": 35,
   "id": "8af5a945",
   "metadata": {},
   "outputs": [
    {
     "name": "stdout",
     "output_type": "stream",
     "text": [
      "<built-in method pop of list object at 0x000001DD0F8F6340>\n",
      "['a', 'b', 'g', 1, 5]\n"
     ]
    }
   ],
   "source": [
    "lst = ['a','b','g',1,5]\n",
    "print(lst.pop)\n",
    "print(lst)"
   ]
  },
  {
   "cell_type": "code",
   "execution_count": 32,
   "id": "bd44f85f",
   "metadata": {},
   "outputs": [
    {
     "name": "stdout",
     "output_type": "stream",
     "text": [
      "True\n"
     ]
    }
   ],
   "source": [
    "var=2\n",
    "print(2==2.0)"
   ]
  },
  {
   "cell_type": "code",
   "execution_count": 33,
   "id": "7875c7f7",
   "metadata": {},
   "outputs": [
    {
     "name": "stdout",
     "output_type": "stream",
     "text": [
      "<class 'complex'>\n"
     ]
    }
   ],
   "source": [
    "num = 4 + 0j\n",
    "print(type(num))"
   ]
  },
  {
   "cell_type": "code",
   "execution_count": 34,
   "id": "eff81176",
   "metadata": {},
   "outputs": [
    {
     "name": "stdout",
     "output_type": "stream",
     "text": [
      "3\n"
     ]
    }
   ],
   "source": [
    "print(int(3.9))"
   ]
  },
  {
   "cell_type": "code",
   "execution_count": null,
   "id": "9e7926eb",
   "metadata": {},
   "outputs": [],
   "source": []
  }
 ],
 "metadata": {
  "kernelspec": {
   "display_name": "Python 3 (ipykernel)",
   "language": "python",
   "name": "python3"
  },
  "language_info": {
   "codemirror_mode": {
    "name": "ipython",
    "version": 3
   },
   "file_extension": ".py",
   "mimetype": "text/x-python",
   "name": "python",
   "nbconvert_exporter": "python",
   "pygments_lexer": "ipython3",
   "version": "3.10.9"
  }
 },
 "nbformat": 4,
 "nbformat_minor": 5
}

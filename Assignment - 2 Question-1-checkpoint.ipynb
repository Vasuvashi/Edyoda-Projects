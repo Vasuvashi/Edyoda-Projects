{
 "cells": [
  {
   "cell_type": "markdown",
   "id": "85571f5c",
   "metadata": {},
   "source": [
    "# Fun with Lists and Tuples\n",
    "Write a Python program to get a list, sorted in increasing order by the last element in each tuple from a given list of non-empty tuples"
   ]
  },
  {
   "cell_type": "code",
   "execution_count": null,
   "id": "1ad52537",
   "metadata": {},
   "outputs": [],
   "source": [
    "tup = [(2, 5), (1, 2), (4, 4), (2, 3), (2, 1)]\n",
    "def sort_tuple_in_list():\n",
    "    list2 =[]\n",
    "    list3 =[]\n",
    "    for i in tup:\n",
    "        list2.append(i[1],)\n",
    "    list2.sort()\n",
    "    print(\"This list contains the last elements of each tuple in a sorted manner:\", list2)\n",
    "    \n",
    "    for i in list2:\n",
    "        for j in tup:\n",
    "            if i == int(j[1],):\n",
    "                list3.append(j)\n",
    "    return list3\n",
    "\n",
    "sort = sort_tuple_in_list()\n",
    "print(\"Final Result:\", sort)"
   ]
  },
  {
   "cell_type": "code",
   "execution_count": null,
   "id": "7e724312",
   "metadata": {},
   "outputs": [],
   "source": []
  }
 ],
 "metadata": {
  "kernelspec": {
   "display_name": "Python 3 (ipykernel)",
   "language": "python",
   "name": "python3"
  },
  "language_info": {
   "codemirror_mode": {
    "name": "ipython",
    "version": 3
   },
   "file_extension": ".py",
   "mimetype": "text/x-python",
   "name": "python",
   "nbconvert_exporter": "python",
   "pygments_lexer": "ipython3",
   "version": "3.10.9"
  }
 },
 "nbformat": 4,
 "nbformat_minor": 5
}

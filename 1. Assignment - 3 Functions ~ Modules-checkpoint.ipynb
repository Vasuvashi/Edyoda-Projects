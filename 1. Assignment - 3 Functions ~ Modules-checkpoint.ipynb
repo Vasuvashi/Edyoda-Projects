{
 "cells": [
  {
   "cell_type": "markdown",
   "id": "4d1da240",
   "metadata": {},
   "source": [
    "# Q-1 Game of \"Functions\"\n",
    " Write a Python function to sum all the numbers in a list."
   ]
  },
  {
   "cell_type": "code",
   "execution_count": 4,
   "id": "62a173ce",
   "metadata": {},
   "outputs": [
    {
     "name": "stdout",
     "output_type": "stream",
     "text": [
      "Enter the length of the list: 5\n",
      "Enter a number: 8\n",
      "Enter a number: 2\n",
      "Enter a number: 3\n",
      "Enter a number: 0\n",
      "Enter a number: 7\n",
      "List items are: [8, 2, 3, 0, 7]\n",
      "Total sum is:  20\n"
     ]
    }
   ],
   "source": [
    "num = int(input(\"Enter the length of the list: \"))\n",
    "lst = []\n",
    "\n",
    "for i in range(0,num):\n",
    "    value = int(input(\"Enter a number: \"))\n",
    "    lst.append(value)\n",
    "print(\"List items are:\", lst)\n",
    "\n",
    "def sum_lst():\n",
    "    sum1 = 0\n",
    "    for i in lst:\n",
    "        sum1 += i\n",
    "    return sum1\n",
    "\n",
    "output = sum_lst()\n",
    "print(\"Total sum is: \", output)"
   ]
  },
  {
   "cell_type": "code",
   "execution_count": null,
   "id": "f13d3ce5",
   "metadata": {},
   "outputs": [],
   "source": []
  }
 ],
 "metadata": {
  "kernelspec": {
   "display_name": "Python 3 (ipykernel)",
   "language": "python",
   "name": "python3"
  },
  "language_info": {
   "codemirror_mode": {
    "name": "ipython",
    "version": 3
   },
   "file_extension": ".py",
   "mimetype": "text/x-python",
   "name": "python",
   "nbconvert_exporter": "python",
   "pygments_lexer": "ipython3",
   "version": "3.10.9"
  }
 },
 "nbformat": 4,
 "nbformat_minor": 5
}

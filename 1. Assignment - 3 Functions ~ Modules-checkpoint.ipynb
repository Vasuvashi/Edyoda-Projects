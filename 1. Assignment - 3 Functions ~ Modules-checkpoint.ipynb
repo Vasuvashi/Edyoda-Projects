{
 "cells": [
  {
   "cell_type": "markdown",
   "id": "e9e95421",
   "metadata": {},
   "source": [
    "# Q-1 Game of \"Functions\"\n",
    " Write a Python function to sum all the numbers in a list."
   ]
  },
  {
   "cell_type": "code",
   "execution_count": null,
   "id": "502fe77c",
   "metadata": {},
   "outputs": [],
   "source": [
    "def sum_lst():\n",
    "    num = int(input(\"Enter the length of the list: \"))\n",
    "    lst = []\n",
    "    for i in range(0,num):\n",
    "        value = int(input(\"Enter the elements in list: \"))\n",
    "        lst.append(value)\n",
    "    print(\"List items are:\", lst)\n",
    "    sum1 = 0\n",
    "    for i in lst:\n",
    "        sum1 += i\n",
    "    return sum1\n",
    "    \n",
    "output = sum_lst()\n",
    "print(\"Total sum is: \", output)"
   ]
  }
 ],
 "metadata": {
  "kernelspec": {
   "display_name": "Python 3 (ipykernel)",
   "language": "python",
   "name": "python3"
  },
  "language_info": {
   "codemirror_mode": {
    "name": "ipython",
    "version": 3
   },
   "file_extension": ".py",
   "mimetype": "text/x-python",
   "name": "python",
   "nbconvert_exporter": "python",
   "pygments_lexer": "ipython3",
   "version": "3.10.9"
  }
 },
 "nbformat": 4,
 "nbformat_minor": 5
}
